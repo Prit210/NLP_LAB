{
 "cells": [
  {
   "cell_type": "code",
   "execution_count": 1,
   "id": "5e29dd58",
   "metadata": {},
   "outputs": [],
   "source": [
    "import numpy as np"
   ]
  },
  {
   "cell_type": "code",
   "execution_count": 4,
   "id": "bf6221c9",
   "metadata": {},
   "outputs": [
    {
     "name": "stdout",
     "output_type": "stream",
     "text": [
      " Total number of sentences: 4768250\n",
      " Total number of words: 308024458\n",
      " Total number of characters: 951499335\n",
      " Average Sentence Length: 64.60\n",
      " Average word length: 3.09\n",
      " Type/Token Ratio (TTR): 0.00520107\n"
     ]
    }
   ],
   "source": [
    "\n",
    "\n",
    "# Initialize variables\n",
    "total_sentences = 0\n",
    "total_words = 0\n",
    "total_characters = 0\n",
    "unique_tokens = set()\n",
    "\n",
    "# Open and read the file\n",
    "with open('gu_meta_part_1_sentences.txt', 'r', encoding='utf-8') as f:\n",
    "    for line in f:\n",
    "        # i. Total number of sentences\n",
    "        total_sentences += 1\n",
    "        \n",
    "        # Strip leading/trailing whitespace and split the line into words\n",
    "        words = line.strip().split()\n",
    "        \n",
    "        # ii. Total number of words\n",
    "        total_words += len(words)\n",
    "        \n",
    "        # Add words to the set of unique tokens\n",
    "        unique_tokens.update(words)\n",
    "        \n",
    "        # iii. Total number of characters\n",
    "        for word in words:\n",
    "            total_characters += len(word)\n",
    "\n",
    "\n",
    "\n",
    "# iv. Average Sentence Length\n",
    "average_sentence_length = total_words / total_sentences if total_sentences > 0 else 0\n",
    "\n",
    "# v. Average word length\n",
    "average_word_length = total_characters / total_words if total_words > 0 else 0\n",
    "\n",
    "# vi. Type/Token Ratio (TTR)\n",
    "ttr = len(unique_tokens) / total_words if total_words > 0 else 0\n",
    "\n",
    "# Print the results\n",
    "print(f\" Total number of sentences: {total_sentences}\")\n",
    "print(f\" Total number of words: {total_words}\")\n",
    "print(f\" Total number of characters: {total_characters}\")\n",
    "print(f\" Average Sentence Length: {average_sentence_length:.2f}\")\n",
    "print(f\" Average word length: {average_word_length:.2f}\")\n",
    "print(f\" Type/Token Ratio (TTR): {ttr:.8f}\")\n"
   ]
  },
  {
   "cell_type": "code",
   "execution_count": 8,
   "id": "2e12e51a",
   "metadata": {},
   "outputs": [
    {
     "ename": "FileNotFoundError",
     "evalue": "[Errno 2] No such file or directory: 'gu_meta_part_1_email.txt'",
     "output_type": "error",
     "traceback": [
      "\u001b[1;31m---------------------------------------------------------------------------\u001b[0m",
      "\u001b[1;31mFileNotFoundError\u001b[0m                         Traceback (most recent call last)",
      "Cell \u001b[1;32mIn[8], line 5\u001b[0m\n\u001b[0;32m      2\u001b[0m url_no\u001b[38;5;241m=\u001b[39m\u001b[38;5;241m0\u001b[39m\n\u001b[0;32m      4\u001b[0m \u001b[38;5;66;03m# Open and read the file\u001b[39;00m\n\u001b[1;32m----> 5\u001b[0m \u001b[38;5;28;01mwith\u001b[39;00m \u001b[38;5;28;43mopen\u001b[39;49m\u001b[43m(\u001b[49m\u001b[38;5;124;43m'\u001b[39;49m\u001b[38;5;124;43mgu_meta_part_1_email.txt\u001b[39;49m\u001b[38;5;124;43m'\u001b[39;49m\u001b[43m,\u001b[49m\u001b[43m \u001b[49m\u001b[38;5;124;43m'\u001b[39;49m\u001b[38;5;124;43mr\u001b[39;49m\u001b[38;5;124;43m'\u001b[39;49m\u001b[43m,\u001b[49m\u001b[43m \u001b[49m\u001b[43mencoding\u001b[49m\u001b[38;5;241;43m=\u001b[39;49m\u001b[38;5;124;43m'\u001b[39;49m\u001b[38;5;124;43mutf-8\u001b[39;49m\u001b[38;5;124;43m'\u001b[39;49m\u001b[43m)\u001b[49m \u001b[38;5;28;01mas\u001b[39;00m f:\n\u001b[0;32m      6\u001b[0m     \u001b[38;5;28;01mfor\u001b[39;00m line \u001b[38;5;129;01min\u001b[39;00m f:\n\u001b[0;32m      7\u001b[0m         \u001b[38;5;66;03m# i. Total number of sentences\u001b[39;00m\n\u001b[0;32m      8\u001b[0m         emails_no \u001b[38;5;241m+\u001b[39m\u001b[38;5;241m=\u001b[39m \u001b[38;5;241m1\u001b[39m\n",
      "File \u001b[1;32m~\\AppData\\Roaming\\Python\\Python313\\site-packages\\IPython\\core\\interactiveshell.py:324\u001b[0m, in \u001b[0;36m_modified_open\u001b[1;34m(file, *args, **kwargs)\u001b[0m\n\u001b[0;32m    317\u001b[0m \u001b[38;5;28;01mif\u001b[39;00m file \u001b[38;5;129;01min\u001b[39;00m {\u001b[38;5;241m0\u001b[39m, \u001b[38;5;241m1\u001b[39m, \u001b[38;5;241m2\u001b[39m}:\n\u001b[0;32m    318\u001b[0m     \u001b[38;5;28;01mraise\u001b[39;00m \u001b[38;5;167;01mValueError\u001b[39;00m(\n\u001b[0;32m    319\u001b[0m         \u001b[38;5;124mf\u001b[39m\u001b[38;5;124m\"\u001b[39m\u001b[38;5;124mIPython won\u001b[39m\u001b[38;5;124m'\u001b[39m\u001b[38;5;124mt let you open fd=\u001b[39m\u001b[38;5;132;01m{\u001b[39;00mfile\u001b[38;5;132;01m}\u001b[39;00m\u001b[38;5;124m by default \u001b[39m\u001b[38;5;124m\"\u001b[39m\n\u001b[0;32m    320\u001b[0m         \u001b[38;5;124m\"\u001b[39m\u001b[38;5;124mas it is likely to crash IPython. If you know what you are doing, \u001b[39m\u001b[38;5;124m\"\u001b[39m\n\u001b[0;32m    321\u001b[0m         \u001b[38;5;124m\"\u001b[39m\u001b[38;5;124myou can use builtins\u001b[39m\u001b[38;5;124m'\u001b[39m\u001b[38;5;124m open.\u001b[39m\u001b[38;5;124m\"\u001b[39m\n\u001b[0;32m    322\u001b[0m     )\n\u001b[1;32m--> 324\u001b[0m \u001b[38;5;28;01mreturn\u001b[39;00m \u001b[43mio_open\u001b[49m\u001b[43m(\u001b[49m\u001b[43mfile\u001b[49m\u001b[43m,\u001b[49m\u001b[43m \u001b[49m\u001b[38;5;241;43m*\u001b[39;49m\u001b[43margs\u001b[49m\u001b[43m,\u001b[49m\u001b[43m \u001b[49m\u001b[38;5;241;43m*\u001b[39;49m\u001b[38;5;241;43m*\u001b[39;49m\u001b[43mkwargs\u001b[49m\u001b[43m)\u001b[49m\n",
      "\u001b[1;31mFileNotFoundError\u001b[0m: [Errno 2] No such file or directory: 'gu_meta_part_1_email.txt'"
     ]
    }
   ],
   "source": [
    "emails_no=0\n",
    "url_no=0\n",
    "\n",
    "# Open and read the file\n",
    "with open('gu_meta_part_1_email.txt', 'r', encoding='utf-8') as f:\n",
    "    for line in f:\n",
    "        # i. Total number of sentences\n",
    "        emails_no += 1\n",
    "\n",
    "        # Open and read the file\n",
    "with open('gu_meta_part_1_url.txt', 'r', encoding='utf-8') as f:\n",
    "    for line in f:\n",
    "        # i. Total number of sentences\n",
    "        url_no += 1\n",
    "\n",
    "        print(f\" Total number of emails: {emails_no}\")\n",
    "print(f\" Total number of urls: {url_no}\")"
   ]
  },
  {
   "cell_type": "code",
   "execution_count": null,
   "id": "0a729144",
   "metadata": {},
   "outputs": [
    {
     "ename": "ValueError",
     "evalue": "I/O operation on closed file.",
     "output_type": "error",
     "traceback": [
      "\u001b[1;31m---------------------------------------------------------------------------\u001b[0m",
      "\u001b[1;31mValueError\u001b[0m                                Traceback (most recent call last)",
      "Cell \u001b[1;32mIn[7], line 2\u001b[0m\n\u001b[0;32m      1\u001b[0m \u001b[38;5;28;01mwith\u001b[39;00m \u001b[38;5;28mopen\u001b[39m(\u001b[38;5;124m\"\u001b[39m\u001b[38;5;124mstatics.txt\u001b[39m\u001b[38;5;124m\"\u001b[39m, \u001b[38;5;124m\"\u001b[39m\u001b[38;5;124mw\u001b[39m\u001b[38;5;124m\"\u001b[39m) \u001b[38;5;28;01mas\u001b[39;00m file:\n\u001b[1;32m----> 2\u001b[0m     \u001b[43mf\u001b[49m\u001b[38;5;241;43m.\u001b[39;49m\u001b[43mwrite\u001b[49m\u001b[43m(\u001b[49m\u001b[38;5;124;43mf\u001b[39;49m\u001b[38;5;124;43m\"\u001b[39;49m\u001b[38;5;124;43m Total number of sentences: \u001b[39;49m\u001b[38;5;132;43;01m{\u001b[39;49;00m\u001b[43mtotal_sentences\u001b[49m\u001b[38;5;132;43;01m}\u001b[39;49;00m\u001b[38;5;124;43m\"\u001b[39;49m\u001b[43m)\u001b[49m\n\u001b[0;32m      3\u001b[0m     f\u001b[38;5;241m.\u001b[39mwrite(\u001b[38;5;124mf\u001b[39m\u001b[38;5;124m\"\u001b[39m\u001b[38;5;124m Total number of words: \u001b[39m\u001b[38;5;132;01m{\u001b[39;00mtotal_words\u001b[38;5;132;01m}\u001b[39;00m\u001b[38;5;124m\"\u001b[39m)\n\u001b[0;32m      4\u001b[0m     \u001b[38;5;66;03m# f.write(f\" Total number of emails: {emails_no}\")\u001b[39;00m\n\u001b[0;32m      5\u001b[0m     \u001b[38;5;66;03m# f.write(f\" Total number of urls: {url_no}\")\u001b[39;00m\n",
      "\u001b[1;31mValueError\u001b[0m: I/O operation on closed file."
     ]
    }
   ],
   "source": [
    "with open(\"statics.txt\", \"w\") as f:\n",
    "    f.write(f\" Total number of sentences: {total_sentences}\")\n",
    "    f.write(f\" Total number of words: {total_words}\")\n",
    "    # f.write(f\" Total number of emails: {emails_no}\")\n",
    "    # f.write(f\" Total number of urls: {url_no}\")\n",
    "    f.write(f\" Total number of characters: {total_characters}\")\n",
    "    f.write(f\" Average Sentence Length: {average_sentence_length:.2f}\")\n",
    "    f.write(f\" Average word length: {average_word_length:.2f}\")\n",
    "    f.write(f\" Type/Token Ratio (TTR): {ttr:.8f}\")"
   ]
  }
 ],
 "metadata": {
  "kernelspec": {
   "display_name": "Python 3",
   "language": "python",
   "name": "python3"
  },
  "language_info": {
   "codemirror_mode": {
    "name": "ipython",
    "version": 3
   },
   "file_extension": ".py",
   "mimetype": "text/x-python",
   "name": "python",
   "nbconvert_exporter": "python",
   "pygments_lexer": "ipython3",
   "version": "3.13.0"
  }
 },
 "nbformat": 4,
 "nbformat_minor": 5
}
