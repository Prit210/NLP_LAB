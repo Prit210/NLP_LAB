{
 "cells": [
  {
   "cell_type": "code",
   "execution_count": 1,
   "id": "5e29dd58",
   "metadata": {},
   "outputs": [],
   "source": [
    "import numpy as np"
   ]
  },
  {
   "cell_type": "code",
   "execution_count": null,
   "id": "bf6221c9",
   "metadata": {},
   "outputs": [],
   "source": [
    "\n",
    "\n",
    "# Initialize variables\n",
    "total_sentences = 0\n",
    "total_words = 0\n",
    "total_characters = 0\n",
    "unique_tokens = set()\n",
    "\n",
    "# Open and read the file\n",
    "with open('sentences.txt', 'r', encoding='utf-8') as f:\n",
    "    for line in f:\n",
    "        # i. Total number of sentences\n",
    "        total_sentences += 1\n",
    "        \n",
    "        # Strip leading/trailing whitespace and split the line into words\n",
    "        words = line.strip().split()\n",
    "        \n",
    "        # ii. Total number of words\n",
    "        total_words += len(words)\n",
    "        \n",
    "        # Add words to the set of unique tokens\n",
    "        unique_tokens.update(words)\n",
    "        \n",
    "        # iii. Total number of characters\n",
    "        for word in words:\n",
    "            total_characters += len(word)\n",
    "\n",
    "\n",
    "\n",
    "# iv. Average Sentence Length\n",
    "average_sentence_length = total_words / total_sentences if total_sentences > 0 else 0\n",
    "\n",
    "# v. Average word length\n",
    "average_word_length = total_characters / total_words if total_words > 0 else 0\n",
    "\n",
    "# vi. Type/Token Ratio (TTR)\n",
    "ttr = len(unique_tokens) / total_words if total_words > 0 else 0\n",
    "\n",
    "# Print the results\n",
    "print(f\" Total number of sentences: {total_sentences}\")\n",
    "print(f\" Total number of words: {total_words}\")\n",
    "print(f\" Total number of characters: {total_characters}\")\n",
    "print(f\" Average Sentence Length: {average_sentence_length:.2f}\")\n",
    "print(f\" Average word length: {average_word_length:.2f}\")\n",
    "print(f\" Type/Token Ratio (TTR): {ttr:.8f}\")\n"
   ]
  },
  {
   "cell_type": "code",
   "execution_count": null,
   "id": "2e12e51a",
   "metadata": {},
   "outputs": [],
   "source": [
    "emails_no=0\n",
    "url_no=0\n",
    "\n",
    "# Open and read the file\n",
    "with open('emails.txt', 'r', encoding='utf-8') as f:\n",
    "    for line in f:\n",
    "        # i. Total number of sentences\n",
    "        emails_no += 1\n",
    "\n",
    "        # Open and read the file\n",
    "with open('url.txt', 'r', encoding='utf-8') as f:\n",
    "    for line in f:\n",
    "        # i. Total number of sentences\n",
    "        url_no += 1\n",
    "\n",
    "        print(f\" Total number of emails: {emails_no}\")\n",
    "print(f\" Total number of urls: {url_no}\")"
   ]
  },
  {
   "cell_type": "code",
   "execution_count": null,
   "id": "0a729144",
   "metadata": {},
   "outputs": [],
   "source": [
    "with open(\"statics.txt\", \"w\") as file:\n",
    "    print(f\" Total number of sentences: {total_sentences}\")\n",
    "    print(f\" Total number of words: {total_words}\")\n",
    "    print(f\" Total number of emails: {emails_no}\")\n",
    "    print(f\" Total number of urls: {url_no}\")\n",
    "    print(f\" Total number of characters: {total_characters}\")\n",
    "    print(f\" Average Sentence Length: {average_sentence_length:.2f}\")\n",
    "    print(f\" Average word length: {average_word_length:.2f}\")\n",
    "    print(f\" Type/Token Ratio (TTR): {ttr:.8f}\")"
   ]
  }
 ],
 "metadata": {
  "kernelspec": {
   "display_name": "Python 3",
   "language": "python",
   "name": "python3"
  },
  "language_info": {
   "codemirror_mode": {
    "name": "ipython",
    "version": 3
   },
   "file_extension": ".py",
   "mimetype": "text/x-python",
   "name": "python",
   "nbconvert_exporter": "python",
   "pygments_lexer": "ipython3",
   "version": "3.13.0"
  }
 },
 "nbformat": 4,
 "nbformat_minor": 5
}
