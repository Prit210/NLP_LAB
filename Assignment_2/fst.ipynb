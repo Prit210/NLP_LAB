{
 "cells": [
  {
   "cell_type": "code",
   "execution_count": 1,
   "id": "53da681f",
   "metadata": {},
   "outputs": [
    {
     "name": "stdout",
     "output_type": "stream",
     "text": [
      "✅ FST processing complete! Output saved to fst_output.txt\n"
     ]
    }
   ],
   "source": [
    "\n",
    "def analyze_noun(word):\n",
    "    # Plural endings handled\n",
    "    if word.endswith(\"es\"):\n",
    "        # Check for rule 1 (E insertion)\n",
    "        if any(word[:-2].endswith(suffix) for suffix in [\"s\", \"z\", \"x\", \"ch\", \"sh\"]):\n",
    "            root = word[:-2]\n",
    "            return f\"{word} = {root}+N+PL\"\n",
    "        else:\n",
    "            return \"Invalid Word\"\n",
    "    elif word.endswith(\"ies\"):\n",
    "        # Rule 2 (Y replacement)\n",
    "        root = word[:-3] + \"y\"\n",
    "        return f\"{word} = {root}+N+PL\"\n",
    "    elif word.endswith(\"s\"):\n",
    "        # Rule 3 (S addition) - avoid false positives like \"is\"\n",
    "        root = word[:-1]\n",
    "        if root.isalpha() and len(root) > 0:\n",
    "            return f\"{word} = {root}+N+PL\"\n",
    "        else:\n",
    "            return \"Invalid Word\"\n",
    "    else:\n",
    "        # Singular form\n",
    "        return f\"{word} = {word}+N+SG\"\n",
    "\n",
    "# File paths\n",
    "input_file = \"brown_nouns_accepted.txt\"\n",
    "output_file = \"fst_output.txt\"\n",
    "\n",
    "with open(input_file, \"r\", encoding=\"utf-8\") as f:\n",
    "    words = [line.strip() for line in f if line.strip()]\n",
    "\n",
    "results = []\n",
    "for word in words:\n",
    "    results.append(analyze_noun(word))\n",
    "\n",
    "# Save results\n",
    "with open(output_file, \"w\", encoding=\"utf-8\") as f:\n",
    "    f.write(\"\\n\".join(results))\n",
    "\n",
    "print(f\"✅ FST processing complete! Output saved to {output_file}\")\n"
   ]
  }
 ],
 "metadata": {
  "kernelspec": {
   "display_name": "Python 3",
   "language": "python",
   "name": "python3"
  },
  "language_info": {
   "name": "python",
   "version": "3.13.0"
  }
 },
 "nbformat": 4,
 "nbformat_minor": 5
}
