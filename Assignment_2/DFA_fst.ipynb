{
 "cells": [
  {
   "cell_type": "markdown",
   "id": "fcb418f4",
   "metadata": {},
   "source": [
    "# making FST\n"
   ]
  },
  {
   "cell_type": "code",
   "execution_count": 1,
   "id": "57450a3d",
   "metadata": {},
   "outputs": [],
   "source": [
    "states={'EA','MEA','MEA1','MEA2','MEA3','MYNR','MYNR1','MYR1','Reject','YNR','YR','i','q0','s'}\n",
    "input_symbols=set([chr(c) for c in range(ord('a'), ord('z')+1)])\n",
    "start_state='q0'\n",
    "final_states={'EA','MEA','MEA1','MEA2','MEA3','MYNR','MYNR1','MYR1','MYR','YNR','YR','i','q0','s'}"
   ]
  },
  {
   "cell_type": "code",
   "execution_count": 2,
   "id": "417ca8a4",
   "metadata": {},
   "outputs": [],
   "source": [
    "# input_symbols"
   ]
  },
  {
   "cell_type": "markdown",
   "id": "ad49087b",
   "metadata": {},
   "source": [
    "# table"
   ]
  },
  {
   "cell_type": "code",
   "execution_count": 3,
   "id": "ef7fecb8",
   "metadata": {},
   "outputs": [],
   "source": [
    "vowels=['a','e','o','u']\n",
    "special=['z','x','s','c']\n",
    "transition_table={}"
   ]
  },
  {
   "cell_type": "code",
   "execution_count": 4,
   "id": "b8be2ce5",
   "metadata": {},
   "outputs": [],
   "source": [
    "# for  y replacement\n",
    "\n",
    "transition_table[('q0','i')]='i'\n",
    "transition_table[('i','s')]='Reject'\n",
    "transition_table[('i','e')]='MYR1'\n",
    "transition_table[('MYR1','s')]='YR'\n",
    "\n",
    "for c in input_symbols:\n",
    "    if c!='s' and c!='e':\n",
    "        transition_table[('MYR',c)]='q0'\n",
    "\n",
    "for c in input_symbols:\n",
    "    if c!='s':\n",
    "        transition_table[('MYR1',c)]='q0'\n",
    "\n",
    "for c in input_symbols:\n",
    "    transition_table[('YR',c)]='q0'\n"
   ]
  },
  {
   "cell_type": "code",
   "execution_count": 5,
   "id": "48bd7801",
   "metadata": {},
   "outputs": [],
   "source": [
    "# for y not replaced\n",
    "for c in vowels:\n",
    "    transition_table[('q0', c)] = 'MYNR'\n",
    "\n",
    "transition_table[('i','y')] = 'MYNR1'\n",
    "transition_table[('MYNR', 'y')]='MYNR1'\n",
    "transition_table[('MYNR1', 's')]='YNR'\n",
    "\n",
    "for c in input_symbols:\n",
    "    if c!='s':\n",
    "        transition_table[('MYNR1',c)]='q0'\n",
    "\n",
    "for c in input_symbols:\n",
    "    transition_table[('YNR',c)]='q0'"
   ]
  },
  {
   "cell_type": "code",
   "execution_count": 6,
   "id": "314827dc",
   "metadata": {},
   "outputs": [],
   "source": [
    "# insertion of e\n",
    "transition_table[('q0','s')]='s'\n",
    "# transition_table[('s','e')]='MEA2'\n",
    "transition_table[('s','h')]='MEA3'\n",
    "transition_table[('s','s')]='MEA'\n",
    "\n",
    "\n",
    "transition_table[('q0','x')]='MEA'\n",
    "transition_table[('q0','z')]='MEA'\n",
    "transition_table[('q0','c')]='MEA1'\n",
    "transition_table[('MEA1','h')]='MEA3'\n",
    "transition_table[(\"MEA\"),'s']='Reject'\n",
    "\n",
    "transition_table[('MEA','e')]='MEA2'\n",
    "transition_table[('MEA3','e')]='MEA2'\n",
    "\n",
    "transition_table[('MEA2','s')]='EA'\n",
    "\n",
    "transition_table[('MEA3','s')]='Reject'\n",
    "transition_table[('MEA','s')]='Reject'\n",
    "\n",
    "for  c in input_symbols:\n",
    "    if c!='e' and c!='s':\n",
    "        transition_table[('MEA',c)]='q0'\n",
    "\n",
    "\n",
    "for  c in input_symbols:\n",
    "    if c!='h':\n",
    "        transition_table[('MEA1',c)]='q0'\n",
    "\n",
    "for  c in input_symbols:\n",
    "    if c!='e' and c!='s':\n",
    "        transition_table[('MEA3',c)]='q0'\n",
    "\n",
    "\n",
    "for c in input_symbols:\n",
    "    transition_table[('EA',c)]='q0'"
   ]
  },
  {
   "cell_type": "code",
   "execution_count": 7,
   "id": "7ccf6542",
   "metadata": {},
   "outputs": [],
   "source": [
    "# only s\n",
    "for c in input_symbols:\n",
    "    if c!='s' and c!='h':\n",
    "        transition_table[('s',c)]='q0'\n",
    "\n",
    "for s in ['MEA3','MYNR','q0']:\n",
    "    transition_table[(s,'s')]='Reject'\n",
    "\n",
    "for s in ['MEA1','MEA2','MEA3','MYNR','q0']:\n",
    "    transition_table[(s,'s')]='s'\n"
   ]
  },
  {
   "cell_type": "code",
   "execution_count": 8,
   "id": "9ec66ecf",
   "metadata": {},
   "outputs": [],
   "source": [
    "# to q0\n",
    "\n",
    "for c in input_symbols:\n",
    "    if c not in vowels and c not in ['i','y','s','z','x','c','h','e']:\n",
    "        transition_table[('q0', c)] = 'q0'\n",
    "\n",
    "for c in input_symbols:\n",
    "    if c not in vowels and c not in ['i','y','s','z','x','c','h','e']:\n",
    "        for s in final_states:\n",
    "            transition_table[(s, c)] = 'q0'"
   ]
  },
  {
   "cell_type": "markdown",
   "id": "4a866966",
   "metadata": {},
   "source": []
  },
  {
   "cell_type": "code",
   "execution_count": 9,
   "id": "15c06a3b",
   "metadata": {},
   "outputs": [
    {
     "data": {
      "text/plain": [
       "{'MEA',\n",
       " 'MEA1',\n",
       " 'MEA2',\n",
       " 'MEA3',\n",
       " 'MYNR',\n",
       " 'MYNR1',\n",
       " 'MYR1',\n",
       " 'Reject',\n",
       " 'YNR',\n",
       " 'YR',\n",
       " 'i',\n",
       " 'q0',\n",
       " 's'}"
      ]
     },
     "execution_count": 9,
     "metadata": {},
     "output_type": "execute_result"
    }
   ],
   "source": [
    "set(transition_table.values())"
   ]
  },
  {
   "cell_type": "markdown",
   "id": "016e812c",
   "metadata": {},
   "source": [
    "# running FST"
   ]
  },
  {
   "cell_type": "code",
   "execution_count": 10,
   "id": "5c8d790a",
   "metadata": {},
   "outputs": [],
   "source": [
    "def  morph(word):\n",
    "    curr_state='q0'\n",
    "\n",
    "    for c in word:\n",
    "        if c in input_symbols:\n",
    "            curr_state = transition_table.get((curr_state, c), 'q0')\n",
    "\n",
    "     \n",
    "    # return curr_state\n",
    "    if curr_state=='s':\n",
    "        morph_of_w=word[:-1]+'+N+PL'\n",
    "    elif curr_state=='EA':\n",
    "        morph_of_w=word[:-2]+'+N+PL'\n",
    "    elif curr_state=='YR':\n",
    "        morph_of_w=word[:-3]+'y+N+PL'   \n",
    "    elif curr_state=='YNR':\n",
    "        morph_of_w=word[:-1]+'+N+PL'\n",
    "    elif curr_state=='Reject':\n",
    "        morph_of_w=\"Invalid world\"\n",
    "    elif curr_state in ['MEA','MEA1','MEA2','MEA3','MYNR','MYNR1','MYR1','i','q0']:\n",
    "        morph_of_w=word+\"+N+SG\"+\" \" \n",
    "    else:\n",
    "        morph_of_w=word+curr_state    \n",
    "\n",
    "    return morph_of_w      \n",
    "\n"
   ]
  },
  {
   "cell_type": "markdown",
   "id": "de177d04",
   "metadata": {},
   "source": [
    "# runing"
   ]
  },
  {
   "cell_type": "code",
   "execution_count": 11,
   "id": "4488e7ff",
   "metadata": {},
   "outputs": [
    {
     "name": "stdout",
     "output_type": "stream",
     "text": [
      "party+N+PL\n",
      "buse+N+PL\n",
      "dog+N+PL\n",
      "fox+N+PL\n",
      "fox+N+PL\n",
      "foxe+N+PL\n",
      "watch+N+SG \n",
      "apple+N+PL\n",
      "pen+N+PL\n"
     ]
    }
   ],
   "source": [
    "words = [\"parties\", \"buses\", \"dogs\",\"foxs\", \"foxs\",\"foxes\", \"watch\", \"apples\",\"pens\"]\n",
    "\n",
    "for w in words:\n",
    "    print(morph(w))"
   ]
  },
  {
   "cell_type": "code",
   "execution_count": null,
   "id": "5b1698a1",
   "metadata": {},
   "outputs": [],
   "source": []
  },
  {
   "cell_type": "markdown",
   "id": "09826e61",
   "metadata": {},
   "source": [
    "# processing txt file"
   ]
  },
  {
   "cell_type": "code",
   "execution_count": 12,
   "id": "4a1d6cee",
   "metadata": {},
   "outputs": [
    {
     "name": "stdout",
     "output_type": "stream",
     "text": [
      "✅ FST processing complete! Output saved to DFA_fst_output.txt\n"
     ]
    }
   ],
   "source": [
    "# File paths\n",
    "input_file = \"brown_nouns.txt\"\n",
    "output_file = \"DFA_fst_output.txt\"\n",
    "\n",
    "with open(input_file, \"r\", encoding=\"utf-8\") as f:\n",
    "    words = [line.strip() for line in f if line.strip()]\n",
    "\n",
    "results = []\n",
    "for word in words:\n",
    "    results.append(word+\"=\"+morph(word))\n",
    "\n",
    "# Save results\n",
    "with open(output_file, \"w\", encoding=\"utf-8\") as f:\n",
    "    f.write(\"\\n\".join(results))\n",
    "\n",
    "print(f\"✅ FST processing complete! Output saved to {output_file}\")"
   ]
  },
  {
   "cell_type": "code",
   "execution_count": 13,
   "id": "9474aa65",
   "metadata": {},
   "outputs": [
    {
     "name": "stdout",
     "output_type": "stream",
     "text": [
      "i: ✅ Valid Word\n",
      "a: ✅ Valid Word\n",
      "u: ✅ Valid Word\n",
      "z: ❌ Invalid Word\n"
     ]
    }
   ],
   "source": [
    "def nfa_simulate(word, transition_table, start_state, final_states):\n",
    "    # current states is a *set* because NFA can be in multiple states\n",
    "    current_states = {start_state}\n",
    "    \n",
    "    for symbol in word:\n",
    "        next_states = set()\n",
    "        for state in current_states:\n",
    "            if (state, symbol) in transition_table:\n",
    "                for target in transition_table[(state, symbol)]:\n",
    "                    next_states.add(target)\n",
    "        current_states = next_states\n",
    "    \n",
    "    # Accept if any of the current states is a final state\n",
    "    return any(state in final_states for state in current_states)\n",
    "\n",
    "\n",
    "# Example usage:\n",
    "states = {}\n",
    "input_symbols = set([chr(c) for c in range(ord('a'), ord('z')+1)])\n",
    "start_state = 'q0'\n",
    "final_states = {'MYR', 'MYNR'}   # ✅ must define final states\n",
    "transition_table = {}\n",
    "\n",
    "# Add transitions\n",
    "transition_table[('q0','i')] = ['MYR','MYNR']\n",
    "for c in ['a','e','o','u']:\n",
    "    transition_table[('q0', c)] = ['MYNR']\n",
    "\n",
    "# Test words\n",
    "words = [\"i\", \"a\", \"u\", \"z\"]\n",
    "for w in words:\n",
    "    if nfa_simulate(w, transition_table, start_state, final_states):\n",
    "        print(f\"{w}: ✅ Valid Word\")\n",
    "    else:\n",
    "        print(f\"{w}: ❌ Invalid Word\")\n"
   ]
  },
  {
   "cell_type": "markdown",
   "id": "d130fb95",
   "metadata": {},
   "source": [
    "# FST visulization"
   ]
  },
  {
   "cell_type": "code",
   "execution_count": 14,
   "id": "12f9d965",
   "metadata": {},
   "outputs": [],
   "source": [
    "from graphviz import Digraph\n",
    "import string"
   ]
  },
  {
   "cell_type": "code",
   "execution_count": 15,
   "id": "cdb922a0",
   "metadata": {},
   "outputs": [],
   "source": [
    "\n",
    "\n",
    "def simplify_label(symbols):\n",
    "    \"\"\"Convert full a-z list to a short 'a–z' string if possible.\"\"\"\n",
    "    if set(symbols) == set(string.ascii_lowercase):\n",
    "        return 'a–z'\n",
    "    return ', '.join(sorted(symbols))\n",
    "\n",
    "def visualize_dfa_clean(states, input_symbols, transition_table, start_state, accept_states, filename='clean_dfa'):\n",
    "    dot = Digraph(format='png')\n",
    "    dot.attr(rankdir='LR')  # Left to right layout\n",
    "\n",
    "    # Draw states\n",
    "    for state in states:\n",
    "        if state in accept_states:\n",
    "            dot.node(state, shape='doublecircle')\n",
    "        elif 'reject' in state:\n",
    "            dot.node(state, shape='circle', style='filled', fillcolor='lightcoral')\n",
    "        else:\n",
    "            dot.node(state, shape='circle')\n",
    "\n",
    "    # Fake invisible start arrow\n",
    "    dot.node('', shape='none')\n",
    "    dot.edge('', start_state)\n",
    "\n",
    "    # Collect edges: (src, dst) → list of input symbols\n",
    "    edge_labels = {}\n",
    "    for (src, symbol), dst in transition_table.items():\n",
    "        key = (src, dst)\n",
    "        edge_labels.setdefault(key, []).append(symbol)\n",
    "\n",
    "    # Draw transitions with grouped labels\n",
    "    for (src, dst), symbols in edge_labels.items():\n",
    "        label = simplify_label(symbols)\n",
    "        dot.edge(src, dst, label=label)\n",
    "\n",
    "    # Render and open\n",
    "    dot.render(filename, view=True)\n",
    "\n",
    "\n",
    "\n",
    "def visualize_dfa_individual_arrows(states, input_symbols, transition_table, start_state, accept_states, filename='dfa_individual_arrows'):\n",
    "    dot = Digraph(format='png')\n",
    "    dot.attr(rankdir='LR')  # Left to right layout\n",
    "\n",
    "    # Draw states\n",
    "    for state in states:\n",
    "        if state in accept_states:\n",
    "            dot.node(state, shape='doublecircle')\n",
    "        elif 'reject' in state:\n",
    "            dot.node(state, shape='circle', style='filled', fillcolor='lightcoral')\n",
    "        else:\n",
    "            dot.node(state, shape='circle')\n",
    "\n",
    "    # Start arrow\n",
    "    dot.node('', shape='none')\n",
    "    dot.edge('', start_state)\n",
    "\n",
    "    # Draw individual transitions (no grouping)\n",
    "    for (src, symbol), dst in transition_table.items():\n",
    "        dot.edge(src, dst, label=symbol)\n",
    "\n",
    "    # Render\n",
    "    dot.render(filename, view=True)\n",
    "\n",
    "\n",
    "\n"
   ]
  },
  {
   "cell_type": "code",
   "execution_count": 16,
   "id": "413cc1b1",
   "metadata": {},
   "outputs": [
    {
     "ename": "TypeError",
     "evalue": "unhashable type: 'list'",
     "output_type": "error",
     "traceback": [
      "\u001b[1;31m---------------------------------------------------------------------------\u001b[0m",
      "\u001b[1;31mTypeError\u001b[0m                                 Traceback (most recent call last)",
      "Cell \u001b[1;32mIn[16], line 6\u001b[0m\n\u001b[0;32m      1\u001b[0m \u001b[38;5;66;03m# Visualize with individual arrows\u001b[39;00m\n\u001b[0;32m      2\u001b[0m \u001b[38;5;66;03m# visualize_dfa_individual_arrows(states, input_symbols, transition_table, start_state, final_states)\u001b[39;00m\n\u001b[0;32m      3\u001b[0m \n\u001b[0;32m      4\u001b[0m \n\u001b[0;32m      5\u001b[0m \u001b[38;5;66;03m# Visualize\u001b[39;00m\n\u001b[1;32m----> 6\u001b[0m \u001b[43mvisualize_dfa_clean\u001b[49m\u001b[43m(\u001b[49m\u001b[43mstates\u001b[49m\u001b[43m,\u001b[49m\u001b[43m \u001b[49m\u001b[43minput_symbols\u001b[49m\u001b[43m,\u001b[49m\u001b[43m \u001b[49m\u001b[43mtransition_table\u001b[49m\u001b[43m,\u001b[49m\u001b[43m \u001b[49m\u001b[43mstart_state\u001b[49m\u001b[43m,\u001b[49m\u001b[43m \u001b[49m\u001b[43mfinal_states\u001b[49m\u001b[43m,\u001b[49m\u001b[38;5;124;43m\"\u001b[39;49m\u001b[38;5;124;43mDFA_fst\u001b[39;49m\u001b[38;5;124;43m\"\u001b[39;49m\u001b[43m)\u001b[49m\n",
      "Cell \u001b[1;32mIn[15], line 28\u001b[0m, in \u001b[0;36mvisualize_dfa_clean\u001b[1;34m(states, input_symbols, transition_table, start_state, accept_states, filename)\u001b[0m\n\u001b[0;32m     26\u001b[0m \u001b[38;5;28;01mfor\u001b[39;00m (src, symbol), dst \u001b[38;5;129;01min\u001b[39;00m transition_table\u001b[38;5;241m.\u001b[39mitems():\n\u001b[0;32m     27\u001b[0m     key \u001b[38;5;241m=\u001b[39m (src, dst)\n\u001b[1;32m---> 28\u001b[0m     \u001b[43medge_labels\u001b[49m\u001b[38;5;241;43m.\u001b[39;49m\u001b[43msetdefault\u001b[49m\u001b[43m(\u001b[49m\u001b[43mkey\u001b[49m\u001b[43m,\u001b[49m\u001b[43m \u001b[49m\u001b[43m[\u001b[49m\u001b[43m]\u001b[49m\u001b[43m)\u001b[49m\u001b[38;5;241m.\u001b[39mappend(symbol)\n\u001b[0;32m     30\u001b[0m \u001b[38;5;66;03m# Draw transitions with grouped labels\u001b[39;00m\n\u001b[0;32m     31\u001b[0m \u001b[38;5;28;01mfor\u001b[39;00m (src, dst), symbols \u001b[38;5;129;01min\u001b[39;00m edge_labels\u001b[38;5;241m.\u001b[39mitems():\n",
      "\u001b[1;31mTypeError\u001b[0m: unhashable type: 'list'"
     ]
    }
   ],
   "source": [
    "# Visualize with individual arrows\n",
    "# visualize_dfa_individual_arrows(states, input_symbols, transition_table, start_state, final_states)\n",
    "\n",
    "\n",
    "# Visualize\n",
    "visualize_dfa_clean(states, input_symbols, transition_table, start_state, final_states,\"DFA_fst\")"
   ]
  }
 ],
 "metadata": {
  "kernelspec": {
   "display_name": "Python 3",
   "language": "python",
   "name": "python3"
  },
  "language_info": {
   "codemirror_mode": {
    "name": "ipython",
    "version": 3
   },
   "file_extension": ".py",
   "mimetype": "text/x-python",
   "name": "python",
   "nbconvert_exporter": "python",
   "pygments_lexer": "ipython3",
   "version": "3.13.0"
  }
 },
 "nbformat": 4,
 "nbformat_minor": 5
}
